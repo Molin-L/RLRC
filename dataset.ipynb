{
 "metadata": {
  "language_info": {
   "codemirror_mode": {
    "name": "ipython",
    "version": 3
   },
   "file_extension": ".py",
   "mimetype": "text/x-python",
   "name": "python",
   "nbconvert_exporter": "python",
   "pygments_lexer": "ipython3",
   "version": "3.7.5-final"
  },
  "orig_nbformat": 2,
  "kernelspec": {
   "name": "python37564bitcec697e8df1e4b95a8b71588e12c06eb",
   "display_name": "Python 3.7.5 64-bit"
  }
 },
 "nbformat": 4,
 "nbformat_minor": 2,
 "cells": [
  {
   "cell_type": "code",
   "execution_count": 1,
   "metadata": {},
   "outputs": [],
   "source": [
    "import torch\n",
    "from torch import nn\n",
    "import torch.nn.functional as F\n",
    "import torch.optim as optim\n",
    "from torchtext.data import Field, TabularDataset, BucketIterator, Iterator\n",
    "import torchtext\n",
    "import matplotlib.pyplot as plt\n",
    "\n",
    "import copy\n",
    "import numpy as np\n",
    "import pandas as pd\n",
    "from tqdm.notebook import tqdm\n",
    "from transformers import BertTokenizer, BertForSequenceClassification"
   ]
  },
  {
   "cell_type": "code",
   "execution_count": 2,
   "metadata": {},
   "outputs": [],
   "source": [
    "'''\n",
    "The lengths of sentences in this dataset will not exceed 512, which is the max length that BertTokenizer can handle.\n",
    "'''\n",
    "train_data = pd.read_csv('./origin_data/train_filtered_bf.txt', sep='\\t', header=None)\n",
    "test_data = pd.read_csv('./origin_data/test_filtered_bf.txt', sep='\\t', header=None)"
   ]
  },
  {
   "cell_type": "code",
   "execution_count": 3,
   "metadata": {
    "tags": []
   },
   "outputs": [
    {
     "output_type": "stream",
     "name": "stdout",
     "text": "Loading pretrained tokenizer...\nDownloading: 100%|██████████| 232k/232k [00:00<00:00, 802kB/s]30522\n30526\n30522 30524\n\n"
    }
   ],
   "source": [
    "print('Loading pretrained tokenizer...')\n",
    "pretrain_model = \"bert-base-uncased\"\n",
    "additional_special_tokens = ['[E1]', '[/E1]', '[E2]', '[/E2]']\n",
    "tokenizer = BertTokenizer.from_pretrained(pretrain_model, do_lower_case=False)\n",
    "print(len(tokenizer))\n",
    "tokenizer.add_tokens(['[E1]', '[/E1]', '[E2]', '[/E2]'])\n",
    "print(len(tokenizer))\n",
    "e1_id = tokenizer.convert_tokens_to_ids('[E1]')\n",
    "e2_id = tokenizer.convert_tokens_to_ids('[E2]')\n",
    "\n",
    "print(e1_id, e2_id)\n",
    "assert e1_id != e2_id != 1"
   ]
  },
  {
   "cell_type": "code",
   "execution_count": 5,
   "metadata": {
    "tags": []
   },
   "outputs": [
    {
     "output_type": "display_data",
     "data": {
      "text/plain": "HBox(children=(FloatProgress(value=0.0, max=70720.0), HTML(value='')))",
      "application/vnd.jupyter.widget-view+json": {
       "version_major": 2,
       "version_minor": 0,
       "model_id": "1c21f277c98a4e16b8a38b0075f92c47"
      }
     },
     "metadata": {}
    },
    {
     "output_type": "stream",
     "name": "stdout",
     "text": "\n"
    }
   ],
   "source": [
    "sentence_len = []\n",
    "input_ids = []\n",
    "attention_masks = []\n",
    "\n",
    "num = 0\n",
    "for sent in tqdm(train_data.iloc[:, 1]):\n",
    "    tokens = tokenizer.tokenize(sent)\n",
    "    sentence_len.append(len(tokens))\n"
   ]
  },
  {
   "cell_type": "code",
   "execution_count": 6,
   "metadata": {},
   "outputs": [],
   "source": [
    "sen_len = pd.DataFrame(sentence_len)\n",
    "sen_len.columns=['len']\n",
    "sen_len_p = sen_len.groupby('len')['len'].count()\n",
    "plt.plot(sen_len_p.index, sen_len_p.values)"
   ]
  },
  {
   "cell_type": "code",
   "execution_count": 28,
   "metadata": {},
   "outputs": [
    {
     "output_type": "execute_result",
     "data": {
      "text/plain": "[<matplotlib.lines.Line2D at 0x7fdbba7a5220>]"
     },
     "metadata": {},
     "execution_count": 28
    },
    {
     "output_type": "display_data",
     "data": {
      "text/plain": "<Figure size 432x288 with 1 Axes>",
      "image/svg+xml": "<?xml version=\"1.0\" encoding=\"utf-8\" standalone=\"no\"?>\n<!DOCTYPE svg PUBLIC \"-//W3C//DTD SVG 1.1//EN\"\n  \"http://www.w3.org/Graphics/SVG/1.1/DTD/svg11.dtd\">\n<!-- Created with matplotlib (https://matplotlib.org/) -->\n<svg height=\"248.518125pt\" version=\"1.1\" viewBox=\"0 0 381.65 248.518125\" width=\"381.65pt\" xmlns=\"http://www.w3.org/2000/svg\" xmlns:xlink=\"http://www.w3.org/1999/xlink\">\n <metadata>\n  <rdf:RDF xmlns:cc=\"http://creativecommons.org/ns#\" xmlns:dc=\"http://purl.org/dc/elements/1.1/\" xmlns:rdf=\"http://www.w3.org/1999/02/22-rdf-syntax-ns#\">\n   <cc:Work>\n    <dc:type rdf:resource=\"http://purl.org/dc/dcmitype/StillImage\"/>\n    <dc:date>2020-08-08T16:55:52.644970</dc:date>\n    <dc:format>image/svg+xml</dc:format>\n    <dc:creator>\n     <cc:Agent>\n      <dc:title>Matplotlib v3.3.0, https://matplotlib.org/</dc:title>\n     </cc:Agent>\n    </dc:creator>\n   </cc:Work>\n  </rdf:RDF>\n </metadata>\n <defs>\n  <style type=\"text/css\">*{stroke-linecap:butt;stroke-linejoin:round;}</style>\n </defs>\n <g id=\"figure_1\">\n  <g id=\"patch_1\">\n   <path d=\"M -0 248.518125 \nL 381.65 248.518125 \nL 381.65 0 \nL -0 0 \nz\n\" style=\"fill:none;\"/>\n  </g>\n  <g id=\"axes_1\">\n   <g id=\"patch_2\">\n    <path d=\"M 39.65 224.64 \nL 374.45 224.64 \nL 374.45 7.2 \nL 39.65 7.2 \nz\n\" style=\"fill:#ffffff;\"/>\n   </g>\n   <g id=\"matplotlib.axis_1\">\n    <g id=\"xtick_1\">\n     <g id=\"line2d_1\">\n      <defs>\n       <path d=\"M 0 0 \nL 0 3.5 \n\" id=\"m15a6d2b79a\" style=\"stroke:#000000;stroke-width:0.8;\"/>\n      </defs>\n      <g>\n       <use style=\"stroke:#000000;stroke-width:0.8;\" x=\"47.621429\" xlink:href=\"#m15a6d2b79a\" y=\"224.64\"/>\n      </g>\n     </g>\n     <g id=\"text_1\">\n      <!-- 0 -->\n      <g transform=\"translate(44.440179 239.238437)scale(0.1 -0.1)\">\n       <defs>\n        <path d=\"M 31.78125 66.40625 \nQ 24.171875 66.40625 20.328125 58.90625 \nQ 16.5 51.421875 16.5 36.375 \nQ 16.5 21.390625 20.328125 13.890625 \nQ 24.171875 6.390625 31.78125 6.390625 \nQ 39.453125 6.390625 43.28125 13.890625 \nQ 47.125 21.390625 47.125 36.375 \nQ 47.125 51.421875 43.28125 58.90625 \nQ 39.453125 66.40625 31.78125 66.40625 \nz\nM 31.78125 74.21875 \nQ 44.046875 74.21875 50.515625 64.515625 \nQ 56.984375 54.828125 56.984375 36.375 \nQ 56.984375 17.96875 50.515625 8.265625 \nQ 44.046875 -1.421875 31.78125 -1.421875 \nQ 19.53125 -1.421875 13.0625 8.265625 \nQ 6.59375 17.96875 6.59375 36.375 \nQ 6.59375 54.828125 13.0625 64.515625 \nQ 19.53125 74.21875 31.78125 74.21875 \nz\n\" id=\"DejaVuSans-48\"/>\n       </defs>\n       <use xlink:href=\"#DejaVuSans-48\"/>\n      </g>\n     </g>\n    </g>\n    <g id=\"xtick_2\">\n     <g id=\"line2d_2\">\n      <g>\n       <use style=\"stroke:#000000;stroke-width:0.8;\" x=\"113.501004\" xlink:href=\"#m15a6d2b79a\" y=\"224.64\"/>\n      </g>\n     </g>\n     <g id=\"text_2\">\n      <!-- 100 -->\n      <g transform=\"translate(103.957254 239.238437)scale(0.1 -0.1)\">\n       <defs>\n        <path d=\"M 12.40625 8.296875 \nL 28.515625 8.296875 \nL 28.515625 63.921875 \nL 10.984375 60.40625 \nL 10.984375 69.390625 \nL 28.421875 72.90625 \nL 38.28125 72.90625 \nL 38.28125 8.296875 \nL 54.390625 8.296875 \nL 54.390625 0 \nL 12.40625 0 \nz\n\" id=\"DejaVuSans-49\"/>\n       </defs>\n       <use xlink:href=\"#DejaVuSans-49\"/>\n       <use x=\"63.623047\" xlink:href=\"#DejaVuSans-48\"/>\n       <use x=\"127.246094\" xlink:href=\"#DejaVuSans-48\"/>\n      </g>\n     </g>\n    </g>\n    <g id=\"xtick_3\">\n     <g id=\"line2d_3\">\n      <g>\n       <use style=\"stroke:#000000;stroke-width:0.8;\" x=\"179.380579\" xlink:href=\"#m15a6d2b79a\" y=\"224.64\"/>\n      </g>\n     </g>\n     <g id=\"text_3\">\n      <!-- 200 -->\n      <g transform=\"translate(169.836829 239.238437)scale(0.1 -0.1)\">\n       <defs>\n        <path d=\"M 19.1875 8.296875 \nL 53.609375 8.296875 \nL 53.609375 0 \nL 7.328125 0 \nL 7.328125 8.296875 \nQ 12.9375 14.109375 22.625 23.890625 \nQ 32.328125 33.6875 34.8125 36.53125 \nQ 39.546875 41.84375 41.421875 45.53125 \nQ 43.3125 49.21875 43.3125 52.78125 \nQ 43.3125 58.59375 39.234375 62.25 \nQ 35.15625 65.921875 28.609375 65.921875 \nQ 23.96875 65.921875 18.8125 64.3125 \nQ 13.671875 62.703125 7.8125 59.421875 \nL 7.8125 69.390625 \nQ 13.765625 71.78125 18.9375 73 \nQ 24.125 74.21875 28.421875 74.21875 \nQ 39.75 74.21875 46.484375 68.546875 \nQ 53.21875 62.890625 53.21875 53.421875 \nQ 53.21875 48.921875 51.53125 44.890625 \nQ 49.859375 40.875 45.40625 35.40625 \nQ 44.1875 33.984375 37.640625 27.21875 \nQ 31.109375 20.453125 19.1875 8.296875 \nz\n\" id=\"DejaVuSans-50\"/>\n       </defs>\n       <use xlink:href=\"#DejaVuSans-50\"/>\n       <use x=\"63.623047\" xlink:href=\"#DejaVuSans-48\"/>\n       <use x=\"127.246094\" xlink:href=\"#DejaVuSans-48\"/>\n      </g>\n     </g>\n    </g>\n    <g id=\"xtick_4\">\n     <g id=\"line2d_4\">\n      <g>\n       <use style=\"stroke:#000000;stroke-width:0.8;\" x=\"245.260153\" xlink:href=\"#m15a6d2b79a\" y=\"224.64\"/>\n      </g>\n     </g>\n     <g id=\"text_4\">\n      <!-- 300 -->\n      <g transform=\"translate(235.716403 239.238437)scale(0.1 -0.1)\">\n       <defs>\n        <path d=\"M 40.578125 39.3125 \nQ 47.65625 37.796875 51.625 33 \nQ 55.609375 28.21875 55.609375 21.1875 \nQ 55.609375 10.40625 48.1875 4.484375 \nQ 40.765625 -1.421875 27.09375 -1.421875 \nQ 22.515625 -1.421875 17.65625 -0.515625 \nQ 12.796875 0.390625 7.625 2.203125 \nL 7.625 11.71875 \nQ 11.71875 9.328125 16.59375 8.109375 \nQ 21.484375 6.890625 26.8125 6.890625 \nQ 36.078125 6.890625 40.9375 10.546875 \nQ 45.796875 14.203125 45.796875 21.1875 \nQ 45.796875 27.640625 41.28125 31.265625 \nQ 36.765625 34.90625 28.71875 34.90625 \nL 20.21875 34.90625 \nL 20.21875 43.015625 \nL 29.109375 43.015625 \nQ 36.375 43.015625 40.234375 45.921875 \nQ 44.09375 48.828125 44.09375 54.296875 \nQ 44.09375 59.90625 40.109375 62.90625 \nQ 36.140625 65.921875 28.71875 65.921875 \nQ 24.65625 65.921875 20.015625 65.03125 \nQ 15.375 64.15625 9.8125 62.3125 \nL 9.8125 71.09375 \nQ 15.4375 72.65625 20.34375 73.4375 \nQ 25.25 74.21875 29.59375 74.21875 \nQ 40.828125 74.21875 47.359375 69.109375 \nQ 53.90625 64.015625 53.90625 55.328125 \nQ 53.90625 49.265625 50.4375 45.09375 \nQ 46.96875 40.921875 40.578125 39.3125 \nz\n\" id=\"DejaVuSans-51\"/>\n       </defs>\n       <use xlink:href=\"#DejaVuSans-51\"/>\n       <use x=\"63.623047\" xlink:href=\"#DejaVuSans-48\"/>\n       <use x=\"127.246094\" xlink:href=\"#DejaVuSans-48\"/>\n      </g>\n     </g>\n    </g>\n    <g id=\"xtick_5\">\n     <g id=\"line2d_5\">\n      <g>\n       <use style=\"stroke:#000000;stroke-width:0.8;\" x=\"311.139728\" xlink:href=\"#m15a6d2b79a\" y=\"224.64\"/>\n      </g>\n     </g>\n     <g id=\"text_5\">\n      <!-- 400 -->\n      <g transform=\"translate(301.595978 239.238437)scale(0.1 -0.1)\">\n       <defs>\n        <path d=\"M 37.796875 64.3125 \nL 12.890625 25.390625 \nL 37.796875 25.390625 \nz\nM 35.203125 72.90625 \nL 47.609375 72.90625 \nL 47.609375 25.390625 \nL 58.015625 25.390625 \nL 58.015625 17.1875 \nL 47.609375 17.1875 \nL 47.609375 0 \nL 37.796875 0 \nL 37.796875 17.1875 \nL 4.890625 17.1875 \nL 4.890625 26.703125 \nz\n\" id=\"DejaVuSans-52\"/>\n       </defs>\n       <use xlink:href=\"#DejaVuSans-52\"/>\n       <use x=\"63.623047\" xlink:href=\"#DejaVuSans-48\"/>\n       <use x=\"127.246094\" xlink:href=\"#DejaVuSans-48\"/>\n      </g>\n     </g>\n    </g>\n   </g>\n   <g id=\"matplotlib.axis_2\">\n    <g id=\"ytick_1\">\n     <g id=\"line2d_6\">\n      <defs>\n       <path d=\"M 0 0 \nL -3.5 0 \n\" id=\"m50fd1db676\" style=\"stroke:#000000;stroke-width:0.8;\"/>\n      </defs>\n      <g>\n       <use style=\"stroke:#000000;stroke-width:0.8;\" x=\"39.65\" xlink:href=\"#m50fd1db676\" y=\"214.879448\"/>\n      </g>\n     </g>\n     <g id=\"text_6\">\n      <!-- 0 -->\n      <g transform=\"translate(26.2875 218.678666)scale(0.1 -0.1)\">\n       <use xlink:href=\"#DejaVuSans-48\"/>\n      </g>\n     </g>\n    </g>\n    <g id=\"ytick_2\">\n     <g id=\"line2d_7\">\n      <g>\n       <use style=\"stroke:#000000;stroke-width:0.8;\" x=\"39.65\" xlink:href=\"#m50fd1db676\" y=\"190.26267\"/>\n      </g>\n     </g>\n     <g id=\"text_7\">\n      <!-- 200 -->\n      <g transform=\"translate(13.5625 194.061888)scale(0.1 -0.1)\">\n       <use xlink:href=\"#DejaVuSans-50\"/>\n       <use x=\"63.623047\" xlink:href=\"#DejaVuSans-48\"/>\n       <use x=\"127.246094\" xlink:href=\"#DejaVuSans-48\"/>\n      </g>\n     </g>\n    </g>\n    <g id=\"ytick_3\">\n     <g id=\"line2d_8\">\n      <g>\n       <use style=\"stroke:#000000;stroke-width:0.8;\" x=\"39.65\" xlink:href=\"#m50fd1db676\" y=\"165.645892\"/>\n      </g>\n     </g>\n     <g id=\"text_8\">\n      <!-- 400 -->\n      <g transform=\"translate(13.5625 169.44511)scale(0.1 -0.1)\">\n       <use xlink:href=\"#DejaVuSans-52\"/>\n       <use x=\"63.623047\" xlink:href=\"#DejaVuSans-48\"/>\n       <use x=\"127.246094\" xlink:href=\"#DejaVuSans-48\"/>\n      </g>\n     </g>\n    </g>\n    <g id=\"ytick_4\">\n     <g id=\"line2d_9\">\n      <g>\n       <use style=\"stroke:#000000;stroke-width:0.8;\" x=\"39.65\" xlink:href=\"#m50fd1db676\" y=\"141.029114\"/>\n      </g>\n     </g>\n     <g id=\"text_9\">\n      <!-- 600 -->\n      <g transform=\"translate(13.5625 144.828332)scale(0.1 -0.1)\">\n       <defs>\n        <path d=\"M 33.015625 40.375 \nQ 26.375 40.375 22.484375 35.828125 \nQ 18.609375 31.296875 18.609375 23.390625 \nQ 18.609375 15.53125 22.484375 10.953125 \nQ 26.375 6.390625 33.015625 6.390625 \nQ 39.65625 6.390625 43.53125 10.953125 \nQ 47.40625 15.53125 47.40625 23.390625 \nQ 47.40625 31.296875 43.53125 35.828125 \nQ 39.65625 40.375 33.015625 40.375 \nz\nM 52.59375 71.296875 \nL 52.59375 62.3125 \nQ 48.875 64.0625 45.09375 64.984375 \nQ 41.3125 65.921875 37.59375 65.921875 \nQ 27.828125 65.921875 22.671875 59.328125 \nQ 17.53125 52.734375 16.796875 39.40625 \nQ 19.671875 43.65625 24.015625 45.921875 \nQ 28.375 48.1875 33.59375 48.1875 \nQ 44.578125 48.1875 50.953125 41.515625 \nQ 57.328125 34.859375 57.328125 23.390625 \nQ 57.328125 12.15625 50.6875 5.359375 \nQ 44.046875 -1.421875 33.015625 -1.421875 \nQ 20.359375 -1.421875 13.671875 8.265625 \nQ 6.984375 17.96875 6.984375 36.375 \nQ 6.984375 53.65625 15.1875 63.9375 \nQ 23.390625 74.21875 37.203125 74.21875 \nQ 40.921875 74.21875 44.703125 73.484375 \nQ 48.484375 72.75 52.59375 71.296875 \nz\n\" id=\"DejaVuSans-54\"/>\n       </defs>\n       <use xlink:href=\"#DejaVuSans-54\"/>\n       <use x=\"63.623047\" xlink:href=\"#DejaVuSans-48\"/>\n       <use x=\"127.246094\" xlink:href=\"#DejaVuSans-48\"/>\n      </g>\n     </g>\n    </g>\n    <g id=\"ytick_5\">\n     <g id=\"line2d_10\">\n      <g>\n       <use style=\"stroke:#000000;stroke-width:0.8;\" x=\"39.65\" xlink:href=\"#m50fd1db676\" y=\"116.412336\"/>\n      </g>\n     </g>\n     <g id=\"text_10\">\n      <!-- 800 -->\n      <g transform=\"translate(13.5625 120.211554)scale(0.1 -0.1)\">\n       <defs>\n        <path d=\"M 31.78125 34.625 \nQ 24.75 34.625 20.71875 30.859375 \nQ 16.703125 27.09375 16.703125 20.515625 \nQ 16.703125 13.921875 20.71875 10.15625 \nQ 24.75 6.390625 31.78125 6.390625 \nQ 38.8125 6.390625 42.859375 10.171875 \nQ 46.921875 13.96875 46.921875 20.515625 \nQ 46.921875 27.09375 42.890625 30.859375 \nQ 38.875 34.625 31.78125 34.625 \nz\nM 21.921875 38.8125 \nQ 15.578125 40.375 12.03125 44.71875 \nQ 8.5 49.078125 8.5 55.328125 \nQ 8.5 64.0625 14.71875 69.140625 \nQ 20.953125 74.21875 31.78125 74.21875 \nQ 42.671875 74.21875 48.875 69.140625 \nQ 55.078125 64.0625 55.078125 55.328125 \nQ 55.078125 49.078125 51.53125 44.71875 \nQ 48 40.375 41.703125 38.8125 \nQ 48.828125 37.15625 52.796875 32.3125 \nQ 56.78125 27.484375 56.78125 20.515625 \nQ 56.78125 9.90625 50.3125 4.234375 \nQ 43.84375 -1.421875 31.78125 -1.421875 \nQ 19.734375 -1.421875 13.25 4.234375 \nQ 6.78125 9.90625 6.78125 20.515625 \nQ 6.78125 27.484375 10.78125 32.3125 \nQ 14.796875 37.15625 21.921875 38.8125 \nz\nM 18.3125 54.390625 \nQ 18.3125 48.734375 21.84375 45.5625 \nQ 25.390625 42.390625 31.78125 42.390625 \nQ 38.140625 42.390625 41.71875 45.5625 \nQ 45.3125 48.734375 45.3125 54.390625 \nQ 45.3125 60.0625 41.71875 63.234375 \nQ 38.140625 66.40625 31.78125 66.40625 \nQ 25.390625 66.40625 21.84375 63.234375 \nQ 18.3125 60.0625 18.3125 54.390625 \nz\n\" id=\"DejaVuSans-56\"/>\n       </defs>\n       <use xlink:href=\"#DejaVuSans-56\"/>\n       <use x=\"63.623047\" xlink:href=\"#DejaVuSans-48\"/>\n       <use x=\"127.246094\" xlink:href=\"#DejaVuSans-48\"/>\n      </g>\n     </g>\n    </g>\n    <g id=\"ytick_6\">\n     <g id=\"line2d_11\">\n      <g>\n       <use style=\"stroke:#000000;stroke-width:0.8;\" x=\"39.65\" xlink:href=\"#m50fd1db676\" y=\"91.795558\"/>\n      </g>\n     </g>\n     <g id=\"text_11\">\n      <!-- 1000 -->\n      <g transform=\"translate(7.2 95.594776)scale(0.1 -0.1)\">\n       <use xlink:href=\"#DejaVuSans-49\"/>\n       <use x=\"63.623047\" xlink:href=\"#DejaVuSans-48\"/>\n       <use x=\"127.246094\" xlink:href=\"#DejaVuSans-48\"/>\n       <use x=\"190.869141\" xlink:href=\"#DejaVuSans-48\"/>\n      </g>\n     </g>\n    </g>\n    <g id=\"ytick_7\">\n     <g id=\"line2d_12\">\n      <g>\n       <use style=\"stroke:#000000;stroke-width:0.8;\" x=\"39.65\" xlink:href=\"#m50fd1db676\" y=\"67.17878\"/>\n      </g>\n     </g>\n     <g id=\"text_12\">\n      <!-- 1200 -->\n      <g transform=\"translate(7.2 70.977998)scale(0.1 -0.1)\">\n       <use xlink:href=\"#DejaVuSans-49\"/>\n       <use x=\"63.623047\" xlink:href=\"#DejaVuSans-50\"/>\n       <use x=\"127.246094\" xlink:href=\"#DejaVuSans-48\"/>\n       <use x=\"190.869141\" xlink:href=\"#DejaVuSans-48\"/>\n      </g>\n     </g>\n    </g>\n    <g id=\"ytick_8\">\n     <g id=\"line2d_13\">\n      <g>\n       <use style=\"stroke:#000000;stroke-width:0.8;\" x=\"39.65\" xlink:href=\"#m50fd1db676\" y=\"42.562002\"/>\n      </g>\n     </g>\n     <g id=\"text_13\">\n      <!-- 1400 -->\n      <g transform=\"translate(7.2 46.36122)scale(0.1 -0.1)\">\n       <use xlink:href=\"#DejaVuSans-49\"/>\n       <use x=\"63.623047\" xlink:href=\"#DejaVuSans-52\"/>\n       <use x=\"127.246094\" xlink:href=\"#DejaVuSans-48\"/>\n       <use x=\"190.869141\" xlink:href=\"#DejaVuSans-48\"/>\n      </g>\n     </g>\n    </g>\n    <g id=\"ytick_9\">\n     <g id=\"line2d_14\">\n      <g>\n       <use style=\"stroke:#000000;stroke-width:0.8;\" x=\"39.65\" xlink:href=\"#m50fd1db676\" y=\"17.945224\"/>\n      </g>\n     </g>\n     <g id=\"text_14\">\n      <!-- 1600 -->\n      <g transform=\"translate(7.2 21.744442)scale(0.1 -0.1)\">\n       <use xlink:href=\"#DejaVuSans-49\"/>\n       <use x=\"63.623047\" xlink:href=\"#DejaVuSans-54\"/>\n       <use x=\"127.246094\" xlink:href=\"#DejaVuSans-48\"/>\n       <use x=\"190.869141\" xlink:href=\"#DejaVuSans-48\"/>\n      </g>\n     </g>\n    </g>\n   </g>\n   <g id=\"line2d_15\">\n    <path clip-path=\"url(#pd8750a33fa)\" d=\"M 54.868182 214.510196 \nL 55.526978 212.663938 \nL 56.844569 210.325344 \nL 57.503365 207.37133 \nL 58.162161 206.140491 \nL 58.820956 201.832555 \nL 59.479752 196.539948 \nL 60.138548 194.324438 \nL 60.797344 190.878089 \nL 61.456139 177.831197 \nL 62.114935 180.169791 \nL 63.432527 158.383942 \nL 64.091322 159.245529 \nL 64.750118 151.36816 \nL 65.408914 148.414147 \nL 66.06771 131.797822 \nL 66.726505 132.04399 \nL 67.385301 113.827574 \nL 68.044097 106.934876 \nL 68.702893 103.857779 \nL 69.361688 89.949299 \nL 70.020484 72.963722 \nL 70.67928 91.180138 \nL 71.338076 75.056149 \nL 71.996871 42.685085 \nL 72.655667 51.793293 \nL 73.314463 36.653975 \nL 74.632054 29.145858 \nL 75.29085 22.499328 \nL 75.949646 20.776153 \nL 76.608442 25.699509 \nL 77.267237 20.529985 \nL 77.926033 17.329804 \nL 78.584829 17.083636 \nL 79.243625 28.038103 \nL 79.90242 22.130076 \nL 80.561216 19.299146 \nL 81.220012 19.914566 \nL 81.878808 22.499328 \nL 82.537603 30.49978 \nL 83.196399 18.929895 \nL 83.855195 34.684633 \nL 84.513991 34.684633 \nL 85.172786 45.023679 \nL 85.831582 57.70132 \nL 86.490378 63.732431 \nL 87.149174 64.34785 \nL 87.807969 73.086806 \nL 88.466765 75.4254 \nL 89.125561 81.333427 \nL 89.784357 80.718007 \nL 90.443152 86.995286 \nL 91.101948 85.025944 \nL 92.41954 112.227483 \nL 93.078335 105.088618 \nL 93.737131 122.320362 \nL 94.395927 129.089976 \nL 95.054723 128.228389 \nL 95.713518 135.736506 \nL 96.372314 137.952016 \nL 97.03111 144.598546 \nL 97.689906 146.444805 \nL 98.348701 154.19909 \nL 99.007497 158.999361 \nL 99.666293 157.891606 \nL 100.325089 161.830291 \nL 100.983884 169.338408 \nL 101.64268 164.415053 \nL 102.301476 168.107569 \nL 102.960272 174.877183 \nL 103.619067 175.123351 \nL 104.277863 177.461945 \nL 104.936659 181.892965 \nL 106.25425 184.846978 \nL 106.913046 185.462398 \nL 107.571842 187.800992 \nL 108.230638 188.170243 \nL 108.889433 189.770334 \nL 109.548229 194.69369 \nL 110.207025 186.200901 \nL 110.865821 195.062941 \nL 111.524616 198.878542 \nL 112.183412 196.416864 \nL 112.842208 200.7248 \nL 113.501004 198.50929 \nL 114.159799 201.217136 \nL 114.818595 199.001626 \nL 115.477391 204.786569 \nL 116.136187 203.801897 \nL 116.794982 200.970968 \nL 117.453778 203.309562 \nL 118.112574 205.032736 \nL 118.77137 207.248246 \nL 119.430165 206.263575 \nL 120.088961 205.894324 \nL 120.747757 205.278904 \nL 121.406553 206.632827 \nL 122.065348 206.140491 \nL 122.724144 206.386659 \nL 123.38294 209.340672 \nL 124.041736 207.002079 \nL 124.700531 208.232917 \nL 125.359327 206.755911 \nL 126.018123 210.325344 \nL 126.676919 209.709924 \nL 127.335714 207.37133 \nL 128.653306 210.079176 \nL 129.970897 208.232917 \nL 130.629693 210.571511 \nL 131.288489 212.171602 \nL 131.947285 212.171602 \nL 132.60608 209.956092 \nL 133.264876 211.063847 \nL 133.923672 211.556182 \nL 134.582468 211.556182 \nL 135.241263 210.817679 \nL 135.900059 213.279357 \nL 136.558855 213.033189 \nL 137.217651 212.663938 \nL 137.876446 213.402441 \nL 138.535242 210.940763 \nL 139.194038 213.771693 \nL 139.852834 213.279357 \nL 140.511629 211.80235 \nL 141.170425 211.186931 \nL 141.829221 211.925434 \nL 142.488017 213.279357 \nL 143.146812 212.171602 \nL 143.805608 213.279357 \nL 144.464404 214.01786 \nL 145.1232 212.540854 \nL 145.781995 213.279357 \nL 146.440791 213.525525 \nL 147.099587 214.510196 \nL 147.758383 213.894776 \nL 148.417178 213.648609 \nL 149.075974 213.279357 \nL 149.73477 213.402441 \nL 150.393566 213.648609 \nL 151.052361 213.648609 \nL 151.711157 214.264028 \nL 152.369953 214.264028 \nL 153.028749 213.771693 \nL 153.687544 212.540854 \nL 154.34634 213.525525 \nL 155.005136 213.525525 \nL 155.663932 213.894776 \nL 156.322727 213.525525 \nL 156.981523 214.63328 \nL 157.640319 213.279357 \nL 158.299115 214.756364 \nL 158.95791 214.264028 \nL 159.616706 214.264028 \nL 160.275502 214.01786 \nL 160.934298 214.264028 \nL 161.593093 214.01786 \nL 162.251889 214.63328 \nL 162.910685 214.01786 \nL 163.569481 214.510196 \nL 164.228276 214.510196 \nL 164.887072 214.264028 \nL 165.545868 213.771693 \nL 166.204664 214.63328 \nL 166.863459 214.756364 \nL 168.181051 213.894776 \nL 168.839847 214.140944 \nL 169.498642 214.756364 \nL 170.157438 214.63328 \nL 170.816234 214.63328 \nL 171.47503 214.264028 \nL 172.133825 214.510196 \nL 172.792621 214.387112 \nL 173.451417 213.648609 \nL 174.110213 213.648609 \nL 174.769008 213.771693 \nL 175.427804 214.510196 \nL 176.745396 213.894776 \nL 177.404191 214.387112 \nL 178.062987 214.63328 \nL 178.721783 214.264028 \nL 179.380579 214.756364 \nL 181.356966 214.387112 \nL 182.015762 214.756364 \nL 182.674557 214.264028 \nL 183.333353 214.140944 \nL 183.992149 214.63328 \nL 184.650945 214.63328 \nL 187.286128 214.756364 \nL 190.580106 214.510196 \nL 191.238902 214.756364 \nL 191.897698 214.510196 \nL 192.556494 214.510196 \nL 193.874085 214.63328 \nL 194.532881 214.264028 \nL 195.850472 214.510196 \nL 196.509268 214.756364 \nL 197.168064 214.756364 \nL 197.82686 214.63328 \nL 198.485655 214.756364 \nL 202.43843 214.63328 \nL 203.097226 214.756364 \nL 206.391204 214.63328 \nL 220.884711 214.756364 \nL 221.543506 214.63328 \nL 224.178689 214.63328 \nL 224.837485 214.387112 \nL 230.766647 214.756364 \nL 233.40183 214.63328 \nL 239.989787 214.756364 \nL 245.260153 214.756364 \nL 247.895336 214.63328 \nL 248.554132 214.756364 \nL 265.682822 214.756364 \nL 266.341617 214.63328 \nL 284.129103 214.756364 \nL 315.751299 214.756364 \nL 316.410094 214.510196 \nL 338.80915 214.756364 \nL 359.231818 214.756364 \nL 359.231818 214.756364 \n\" style=\"fill:none;stroke:#1f77b4;stroke-linecap:square;stroke-width:1.5;\"/>\n   </g>\n   <g id=\"patch_3\">\n    <path d=\"M 39.65 224.64 \nL 39.65 7.2 \n\" style=\"fill:none;stroke:#000000;stroke-linecap:square;stroke-linejoin:miter;stroke-width:0.8;\"/>\n   </g>\n   <g id=\"patch_4\">\n    <path d=\"M 374.45 224.64 \nL 374.45 7.2 \n\" style=\"fill:none;stroke:#000000;stroke-linecap:square;stroke-linejoin:miter;stroke-width:0.8;\"/>\n   </g>\n   <g id=\"patch_5\">\n    <path d=\"M 39.65 224.64 \nL 374.45 224.64 \n\" style=\"fill:none;stroke:#000000;stroke-linecap:square;stroke-linejoin:miter;stroke-width:0.8;\"/>\n   </g>\n   <g id=\"patch_6\">\n    <path d=\"M 39.65 7.2 \nL 374.45 7.2 \n\" style=\"fill:none;stroke:#000000;stroke-linecap:square;stroke-linejoin:miter;stroke-width:0.8;\"/>\n   </g>\n  </g>\n </g>\n <defs>\n  <clipPath id=\"pd8750a33fa\">\n   <rect height=\"217.44\" width=\"334.8\" x=\"39.65\" y=\"7.2\"/>\n  </clipPath>\n </defs>\n</svg>\n",
      "image/png": "[encoded data removed]"
     },
     "metadata": {
      "needs_background": "light"
     }
    }
   ],
   "source": []
  },
  {
   "cell_type": "code",
   "execution_count": 7,
   "metadata": {
    "tags": []
   },
   "outputs": [
    {
     "output_type": "display_data",
     "data": {
      "text/plain": "HBox(children=(FloatProgress(value=0.0, max=70720.0), HTML(value='')))",
      "application/vnd.jupyter.widget-view+json": {
       "version_major": 2,
       "version_minor": 0,
       "model_id": "61b3b1d5784e480eb341187f3f6a29fa"
      }
     },
     "metadata": {}
    },
    {
     "output_type": "stream",
     "name": "stdout",
     "text": "\n"
    }
   ],
   "source": [
    "max_len = 128\n",
    "tag_list = []\n",
    "sent_list = []\n",
    "for i in tqdm(range(len(train_data))):\n",
    "    tag = train_data.loc[i, 0]\n",
    "    sent = train_data.loc[i, 1]\n",
    "    tokens = tokenizer.tokenize(sent)\n",
    "    if len(tokens)<max_len:\n",
    "        tag_list.append(tag)\n",
    "        sent_list.append(sent)\n",
    "sentence_128 = pd.DataFrame({'tag':tag_list, 'sent':sent_list})"
   ]
  },
  {
   "cell_type": "code",
   "execution_count": 10,
   "metadata": {},
   "outputs": [],
   "source": [
    "sentence_128.to_csv('./origin_data/sentence_128.txt', sep='\\t', header=False, index=False)"
   ]
  },
  {
   "cell_type": "code",
   "execution_count": null,
   "metadata": {},
   "outputs": [],
   "source": []
  }
 ]
}